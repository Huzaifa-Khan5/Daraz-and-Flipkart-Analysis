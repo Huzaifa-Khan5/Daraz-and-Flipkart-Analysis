{
 "cells": [
  {
   "cell_type": "code",
   "execution_count": null,
   "id": "495ba284",
   "metadata": {},
   "outputs": [],
   "source": [
    "from selenium import webdriver\n",
    "from selenium.webdriver.common.by import By\n",
    "from selenium.webdriver.common.keys import Keys\n",
    "import time\n",
    "import pandas as pd "
   ]
  },
  {
   "cell_type": "code",
   "execution_count": null,
   "id": "914cd41a",
   "metadata": {},
   "outputs": [],
   "source": [
    "driver=webdriver.Chrome()\n",
    "driver.get('https://www.flipkart.com/')"
   ]
  },
  {
   "cell_type": "code",
   "execution_count": null,
   "id": "94c128a0",
   "metadata": {},
   "outputs": [],
   "source": [
    "prod_searchs=[\"mobiles\",'tv','laptop']\n",
    "product_names=[]\n",
    "product_prices=[]"
   ]
  },
  {
   "cell_type": "code",
   "execution_count": null,
   "id": "aa92d62b",
   "metadata": {},
   "outputs": [],
   "source": [
    "def find_names_and_price():\n",
    "    names=driver.find_elements(By.CSS_SELECTOR,'._4rR01T') \n",
    "    prices=driver.find_elements(By.CSS_SELECTOR,'._25b18c')\n",
    "    for i in names:\n",
    "        if '' != i.text:\n",
    "            product_names.append(i.text)\n",
    "            \n",
    "    for i,price in enumerate(prices):\n",
    "        if i == 24:\n",
    "            break\n",
    "        product_prices.append(price.text[0:7])"
   ]
  },
  {
   "cell_type": "code",
   "execution_count": null,
   "id": "67dadca4",
   "metadata": {},
   "outputs": [],
   "source": [
    "for j,prod in enumerate(prod_searchs):\n",
    "    print(prod)\n",
    "    if j==0:\n",
    "        search_bar=driver.find_element(By.XPATH,'//*[@id=\"container\"]/div/div[1]/div/div/div/div/div[1]/div/div[1]/div/div[1]/header/div[1]/div[2]/form/div/div/input')\n",
    "    else:\n",
    "        search_bar=driver.find_element(By.XPATH,'//*[@id=\"container\"]/div/div[1]/div[1]/div[2]/div[2]/form/div/div/input')\n",
    "    search_bar.send_keys(prod)\n",
    "    search_bar.send_keys(Keys.ENTER)\n",
    "    for i in range(1,10):\n",
    "        time.sleep(10)\n",
    "        find_names_and_price()\n",
    "        time.sleep(5)\n",
    "        next_page=driver.find_elements(By.CSS_SELECTOR,'nav.yFHi8N a')\n",
    "        print(next_page[i].text)\n",
    "        next_page[i].click()    \n",
    "    time.sleep(10)\n",
    "    driver.find_element(By.XPATH,'//*[@id=\"container\"]/div/div[1]/div[1]/div[2]/div[2]/form/div/div/input').clear()"
   ]
  },
  {
   "cell_type": "code",
   "execution_count": null,
   "id": "153ef711",
   "metadata": {},
   "outputs": [],
   "source": [
    "len(product_names),len(product_prices)"
   ]
  },
  {
   "cell_type": "code",
   "execution_count": null,
   "id": "d165da61",
   "metadata": {},
   "outputs": [],
   "source": [
    "data = {'product_names': product_names, 'product_prices': product_prices,\"category\":category} \n",
    "df = pd.DataFrame(data) "
   ]
  },
  {
   "cell_type": "code",
   "execution_count": null,
   "id": "2426d39f",
   "metadata": {
    "scrolled": false
   },
   "outputs": [],
   "source": [
    "df"
   ]
  },
  {
   "cell_type": "code",
   "execution_count": null,
   "id": "f984f22c",
   "metadata": {},
   "outputs": [],
   "source": [
    "df.to_csv(\"flipkart.csv\",index=False)"
   ]
  }
 ],
 "metadata": {
  "kernelspec": {
   "display_name": "Python 3 (ipykernel)",
   "language": "python",
   "name": "python3"
  },
  "language_info": {
   "codemirror_mode": {
    "name": "ipython",
    "version": 3
   },
   "file_extension": ".py",
   "mimetype": "text/x-python",
   "name": "python",
   "nbconvert_exporter": "python",
   "pygments_lexer": "ipython3",
   "version": "3.10.4"
  }
 },
 "nbformat": 4,
 "nbformat_minor": 5
}
