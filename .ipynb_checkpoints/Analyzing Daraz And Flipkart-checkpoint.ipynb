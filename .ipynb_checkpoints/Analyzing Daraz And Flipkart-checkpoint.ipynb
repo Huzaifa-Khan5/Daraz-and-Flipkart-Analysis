{
 "cells": [
  {
   "cell_type": "code",
   "execution_count": 110,
   "id": "4fb6ddd5",
   "metadata": {},
   "outputs": [],
   "source": [
    "import pandas as pd\n",
    "import matplotlib.pyplot as plt\n",
    "import seaborn as sns"
   ]
  },
  {
   "cell_type": "markdown",
   "id": "3c28edda",
   "metadata": {},
   "source": [
    "# Daraz Dataset Analysis"
   ]
  },
  {
   "cell_type": "code",
   "execution_count": 200,
   "id": "0866efc9",
   "metadata": {},
   "outputs": [],
   "source": [
    "daraz=pd.read_csv('daraz.csv')"
   ]
  },
  {
   "cell_type": "code",
   "execution_count": 201,
   "id": "69e24b23",
   "metadata": {},
   "outputs": [
    {
     "data": {
      "text/html": [
       "<div>\n",
       "<style scoped>\n",
       "    .dataframe tbody tr th:only-of-type {\n",
       "        vertical-align: middle;\n",
       "    }\n",
       "\n",
       "    .dataframe tbody tr th {\n",
       "        vertical-align: top;\n",
       "    }\n",
       "\n",
       "    .dataframe thead th {\n",
       "        text-align: right;\n",
       "    }\n",
       "</style>\n",
       "<table border=\"1\" class=\"dataframe\">\n",
       "  <thead>\n",
       "    <tr style=\"text-align: right;\">\n",
       "      <th></th>\n",
       "      <th>product_names</th>\n",
       "      <th>product_prices</th>\n",
       "      <th>category</th>\n",
       "    </tr>\n",
       "  </thead>\n",
       "  <tbody>\n",
       "    <tr>\n",
       "      <th>0</th>\n",
       "      <td>Samsung Galaxy Tab A6 - 1.5GB RAM - 8GB ROM - ...</td>\n",
       "      <td>Rs. 15,000</td>\n",
       "      <td>mobiles and tablets</td>\n",
       "    </tr>\n",
       "    <tr>\n",
       "      <th>1</th>\n",
       "      <td>Amazon kindle touch and audio speech 4th gener...</td>\n",
       "      <td>Rs. 7,000</td>\n",
       "      <td>mobiles and tablets</td>\n",
       "    </tr>\n",
       "    <tr>\n",
       "      <th>2</th>\n",
       "      <td>Redmi 12 || 8GB Ram 128GB Rom || 5000mAh Battery</td>\n",
       "      <td>Rs. 44,999</td>\n",
       "      <td>mobiles and tablets</td>\n",
       "    </tr>\n",
       "    <tr>\n",
       "      <th>3</th>\n",
       "      <td>Amazon kindle paperwhite ereader 4th generation</td>\n",
       "      <td>Rs. 4,500</td>\n",
       "      <td>mobiles and tablets</td>\n",
       "    </tr>\n",
       "    <tr>\n",
       "      <th>4</th>\n",
       "      <td>Redmi 12C 4GB Ram 5000mAh Battery Fingerprint ...</td>\n",
       "      <td>Rs. 27,999</td>\n",
       "      <td>mobiles and tablets</td>\n",
       "    </tr>\n",
       "  </tbody>\n",
       "</table>\n",
       "</div>"
      ],
      "text/plain": [
       "                                       product_names product_prices  \\\n",
       "0  Samsung Galaxy Tab A6 - 1.5GB RAM - 8GB ROM - ...     Rs. 15,000   \n",
       "1  Amazon kindle touch and audio speech 4th gener...      Rs. 7,000   \n",
       "2   Redmi 12 || 8GB Ram 128GB Rom || 5000mAh Battery     Rs. 44,999   \n",
       "3    Amazon kindle paperwhite ereader 4th generation      Rs. 4,500   \n",
       "4  Redmi 12C 4GB Ram 5000mAh Battery Fingerprint ...     Rs. 27,999   \n",
       "\n",
       "              category  \n",
       "0  mobiles and tablets  \n",
       "1  mobiles and tablets  \n",
       "2  mobiles and tablets  \n",
       "3  mobiles and tablets  \n",
       "4  mobiles and tablets  "
      ]
     },
     "execution_count": 201,
     "metadata": {},
     "output_type": "execute_result"
    }
   ],
   "source": [
    "daraz.head()"
   ]
  },
  {
   "cell_type": "code",
   "execution_count": 202,
   "id": "a0e4dbae",
   "metadata": {},
   "outputs": [
    {
     "name": "stdout",
     "output_type": "stream",
     "text": [
      "<class 'pandas.core.frame.DataFrame'>\n",
      "RangeIndex: 600 entries, 0 to 599\n",
      "Data columns (total 3 columns):\n",
      " #   Column          Non-Null Count  Dtype \n",
      "---  ------          --------------  ----- \n",
      " 0   product_names   600 non-null    object\n",
      " 1   product_prices  600 non-null    object\n",
      " 2   category        600 non-null    object\n",
      "dtypes: object(3)\n",
      "memory usage: 14.2+ KB\n"
     ]
    }
   ],
   "source": [
    "daraz.info()"
   ]
  },
  {
   "cell_type": "markdown",
   "id": "e12b379a",
   "metadata": {},
   "source": [
    "### Checking Null Values"
   ]
  },
  {
   "cell_type": "code",
   "execution_count": 204,
   "id": "0788b855",
   "metadata": {},
   "outputs": [
    {
     "data": {
      "text/plain": [
       "product_names     0\n",
       "product_prices    0\n",
       "category          0\n",
       "dtype: int64"
      ]
     },
     "execution_count": 204,
     "metadata": {},
     "output_type": "execute_result"
    }
   ],
   "source": [
    "daraz.isnull().sum()"
   ]
  },
  {
   "cell_type": "markdown",
   "id": "6372c7b4",
   "metadata": {},
   "source": [
    "There are not any missing values in our data."
   ]
  },
  {
   "cell_type": "markdown",
   "id": "9538f70a",
   "metadata": {},
   "source": [
    "### Checking Duplicates"
   ]
  },
  {
   "cell_type": "code",
   "execution_count": 205,
   "id": "3419346f",
   "metadata": {
    "scrolled": true
   },
   "outputs": [
    {
     "data": {
      "text/html": [
       "<div>\n",
       "<style scoped>\n",
       "    .dataframe tbody tr th:only-of-type {\n",
       "        vertical-align: middle;\n",
       "    }\n",
       "\n",
       "    .dataframe tbody tr th {\n",
       "        vertical-align: top;\n",
       "    }\n",
       "\n",
       "    .dataframe thead th {\n",
       "        text-align: right;\n",
       "    }\n",
       "</style>\n",
       "<table border=\"1\" class=\"dataframe\">\n",
       "  <thead>\n",
       "    <tr style=\"text-align: right;\">\n",
       "      <th></th>\n",
       "      <th>product_names</th>\n",
       "      <th>product_prices</th>\n",
       "      <th>category</th>\n",
       "    </tr>\n",
       "  </thead>\n",
       "  <tbody>\n",
       "    <tr>\n",
       "      <th>110</th>\n",
       "      <td>Redmi Note 12 || 8GB Ram 128GB Rom || 6.67 Inc...</td>\n",
       "      <td>Rs. 53,499</td>\n",
       "      <td>mobiles and tablets</td>\n",
       "    </tr>\n",
       "    <tr>\n",
       "      <th>279</th>\n",
       "      <td>TCL L40S5400 Full HD Android Border Less 40\" L...</td>\n",
       "      <td>Rs. 71,999</td>\n",
       "      <td>tv</td>\n",
       "    </tr>\n",
       "    <tr>\n",
       "      <th>521</th>\n",
       "      <td>S900 Cooling Pad For 14-17 Inch Laptops Gaming...</td>\n",
       "      <td>Rs. 3,099</td>\n",
       "      <td>computer products</td>\n",
       "    </tr>\n",
       "    <tr>\n",
       "      <th>594</th>\n",
       "      <td>Daraz Like New Laptops - Lenovo N21 Chromebook...</td>\n",
       "      <td>Rs. 11,749</td>\n",
       "      <td>computer products</td>\n",
       "    </tr>\n",
       "  </tbody>\n",
       "</table>\n",
       "</div>"
      ],
      "text/plain": [
       "                                         product_names product_prices  \\\n",
       "110  Redmi Note 12 || 8GB Ram 128GB Rom || 6.67 Inc...     Rs. 53,499   \n",
       "279  TCL L40S5400 Full HD Android Border Less 40\" L...     Rs. 71,999   \n",
       "521  S900 Cooling Pad For 14-17 Inch Laptops Gaming...      Rs. 3,099   \n",
       "594  Daraz Like New Laptops - Lenovo N21 Chromebook...     Rs. 11,749   \n",
       "\n",
       "                category  \n",
       "110  mobiles and tablets  \n",
       "279                   tv  \n",
       "521    computer products  \n",
       "594    computer products  "
      ]
     },
     "execution_count": 205,
     "metadata": {},
     "output_type": "execute_result"
    }
   ],
   "source": [
    "daraz[daraz.duplicated()]"
   ]
  },
  {
   "cell_type": "markdown",
   "id": "bddfaab8",
   "metadata": {},
   "source": [
    "These are 5 duplicated products in daraz data that have same product name and have same price and have same category."
   ]
  },
  {
   "cell_type": "code",
   "execution_count": 207,
   "id": "815b10e8",
   "metadata": {
    "scrolled": false
   },
   "outputs": [
    {
     "data": {
      "text/html": [
       "<div>\n",
       "<style scoped>\n",
       "    .dataframe tbody tr th:only-of-type {\n",
       "        vertical-align: middle;\n",
       "    }\n",
       "\n",
       "    .dataframe tbody tr th {\n",
       "        vertical-align: top;\n",
       "    }\n",
       "\n",
       "    .dataframe thead th {\n",
       "        text-align: right;\n",
       "    }\n",
       "</style>\n",
       "<table border=\"1\" class=\"dataframe\">\n",
       "  <thead>\n",
       "    <tr style=\"text-align: right;\">\n",
       "      <th></th>\n",
       "      <th>product_names</th>\n",
       "      <th>product_prices</th>\n",
       "      <th>category</th>\n",
       "    </tr>\n",
       "  </thead>\n",
       "  <tbody>\n",
       "    <tr>\n",
       "      <th>12</th>\n",
       "      <td>Samsung Galaxy Tab A6 - 1.5GB RAM - 8GB ROM - ...</td>\n",
       "      <td>Rs. 12,775</td>\n",
       "      <td>mobiles and tablets</td>\n",
       "    </tr>\n",
       "    <tr>\n",
       "      <th>40</th>\n",
       "      <td>Redmi Note 12 || 8GB Ram 128GB Rom || 6.67 Inc...</td>\n",
       "      <td>Rs. 53,499</td>\n",
       "      <td>mobiles and tablets</td>\n",
       "    </tr>\n",
       "    <tr>\n",
       "      <th>53</th>\n",
       "      <td>Xiaomi Redmi Note 12 RAM 8 GB ROM 128 Front Ca...</td>\n",
       "      <td>Rs. 59,840</td>\n",
       "      <td>mobiles and tablets</td>\n",
       "    </tr>\n",
       "    <tr>\n",
       "      <th>56</th>\n",
       "      <td>Daraz Like New Tablets – Amazon Fire HD 7 | 9t...</td>\n",
       "      <td>Rs. 10,000</td>\n",
       "      <td>mobiles and tablets</td>\n",
       "    </tr>\n",
       "    <tr>\n",
       "      <th>65</th>\n",
       "      <td>Samsung Galaxy Tab E - 1.5GB RAM - 16GB ROM - ...</td>\n",
       "      <td>Rs. 15,000</td>\n",
       "      <td>mobiles and tablets</td>\n",
       "    </tr>\n",
       "    <tr>\n",
       "      <th>90</th>\n",
       "      <td>itel S23 8GB Ram 128GB Rom 6.6\" Display 5000mA...</td>\n",
       "      <td>Rs. 29,349</td>\n",
       "      <td>mobiles and tablets</td>\n",
       "    </tr>\n",
       "    <tr>\n",
       "      <th>96</th>\n",
       "      <td>Redmi 12C 4GB RAM + 128GB ROM PTA Approved Mob...</td>\n",
       "      <td>Rs. 30,940</td>\n",
       "      <td>mobiles and tablets</td>\n",
       "    </tr>\n",
       "    <tr>\n",
       "      <th>108</th>\n",
       "      <td>Infinix Note 30 RAM 8 GB ROM 256 GB Front Came...</td>\n",
       "      <td>Rs. 49,499</td>\n",
       "      <td>mobiles and tablets</td>\n",
       "    </tr>\n",
       "    <tr>\n",
       "      <th>110</th>\n",
       "      <td>Redmi Note 12 || 8GB Ram 128GB Rom || 6.67 Inc...</td>\n",
       "      <td>Rs. 53,499</td>\n",
       "      <td>mobiles and tablets</td>\n",
       "    </tr>\n",
       "    <tr>\n",
       "      <th>112</th>\n",
       "      <td>Redmi 12C 4GB RAM + 128GB ROM PTA Approved Mob...</td>\n",
       "      <td>Rs. 27,990</td>\n",
       "      <td>mobiles and tablets</td>\n",
       "    </tr>\n",
       "    <tr>\n",
       "      <th>120</th>\n",
       "      <td>Xiaomi Redmi Note 12 RAM 8 GB ROM 128 Front Ca...</td>\n",
       "      <td>Rs. 59,880</td>\n",
       "      <td>mobiles and tablets</td>\n",
       "    </tr>\n",
       "    <tr>\n",
       "      <th>142</th>\n",
       "      <td>Redmi 12C || 4GB Ram 128GB Rom || 6.71 Inches ...</td>\n",
       "      <td>Rs. 27,799</td>\n",
       "      <td>mobiles and tablets</td>\n",
       "    </tr>\n",
       "    <tr>\n",
       "      <th>167</th>\n",
       "      <td>Redmi 12C 4GB RAM + 128GB ROM PTA Approved Mob...</td>\n",
       "      <td>Rs. 30,980</td>\n",
       "      <td>mobiles and tablets</td>\n",
       "    </tr>\n",
       "    <tr>\n",
       "      <th>183</th>\n",
       "      <td>Infinix NOTE 12 - 8GB RAM 128GB ROM - Mediatek...</td>\n",
       "      <td>Rs. 59,499</td>\n",
       "      <td>mobiles and tablets</td>\n",
       "    </tr>\n",
       "    <tr>\n",
       "      <th>197</th>\n",
       "      <td>Infinix Note 30 RAM 8 GB ROM 256 GB Front Came...</td>\n",
       "      <td>Rs. 53,780</td>\n",
       "      <td>mobiles and tablets</td>\n",
       "    </tr>\n",
       "    <tr>\n",
       "      <th>267</th>\n",
       "      <td>TCL 43\" P635 4K HDR Google LED TV</td>\n",
       "      <td>Rs. 89,999</td>\n",
       "      <td>tv</td>\n",
       "    </tr>\n",
       "    <tr>\n",
       "      <th>275</th>\n",
       "      <td>Dawlance 32'' HD LED TV / Spectrum series / 32...</td>\n",
       "      <td>Rs. 42,100</td>\n",
       "      <td>tv</td>\n",
       "    </tr>\n",
       "    <tr>\n",
       "      <th>279</th>\n",
       "      <td>TCL L40S5400 Full HD Android Border Less 40\" L...</td>\n",
       "      <td>Rs. 71,999</td>\n",
       "      <td>tv</td>\n",
       "    </tr>\n",
       "    <tr>\n",
       "      <th>294</th>\n",
       "      <td>TCL L32S5400 Full HD Android Border Less 32\" L...</td>\n",
       "      <td>Rs. 50,499</td>\n",
       "      <td>tv</td>\n",
       "    </tr>\n",
       "    <tr>\n",
       "      <th>299</th>\n",
       "      <td>TCL 43\" P635 4K HDR Google LED TV</td>\n",
       "      <td>Rs. 110,000</td>\n",
       "      <td>tv</td>\n",
       "    </tr>\n",
       "    <tr>\n",
       "      <th>304</th>\n",
       "      <td>TCL 43C645 4K Android 43\" QLED TV</td>\n",
       "      <td>Rs. 114,999</td>\n",
       "      <td>tv</td>\n",
       "    </tr>\n",
       "    <tr>\n",
       "      <th>353</th>\n",
       "      <td>TCL L43S5400 Full HD Android Border Less 43\" L...</td>\n",
       "      <td>Rs. 81,999</td>\n",
       "      <td>tv</td>\n",
       "    </tr>\n",
       "    <tr>\n",
       "      <th>363</th>\n",
       "      <td>TCL 65P635 4K HDR Google 65\" LED TV</td>\n",
       "      <td>Rs. 206,000</td>\n",
       "      <td>tv</td>\n",
       "    </tr>\n",
       "    <tr>\n",
       "      <th>375</th>\n",
       "      <td>TCL 50\" P635 4K HDR Google LED TV</td>\n",
       "      <td>Rs. 129,999</td>\n",
       "      <td>tv</td>\n",
       "    </tr>\n",
       "    <tr>\n",
       "      <th>377</th>\n",
       "      <td>Dawlance 50'' 4K UHD LED TV / Canvas series / ...</td>\n",
       "      <td>Rs. 145,800</td>\n",
       "      <td>tv</td>\n",
       "    </tr>\n",
       "    <tr>\n",
       "      <th>388</th>\n",
       "      <td>Haier 40\" Smart LED/TV K66 Series/H40K66FG (Ce...</td>\n",
       "      <td>Rs. 70,499</td>\n",
       "      <td>tv</td>\n",
       "    </tr>\n",
       "    <tr>\n",
       "      <th>462</th>\n",
       "      <td>X13 Universal Mobile Game Cooler System Coolin...</td>\n",
       "      <td>Rs. 595</td>\n",
       "      <td>computer products</td>\n",
       "    </tr>\n",
       "    <tr>\n",
       "      <th>521</th>\n",
       "      <td>S900 Cooling Pad For 14-17 Inch Laptops Gaming...</td>\n",
       "      <td>Rs. 3,099</td>\n",
       "      <td>computer products</td>\n",
       "    </tr>\n",
       "    <tr>\n",
       "      <th>555</th>\n",
       "      <td>Portable Mini Fan Usb Charging rechargable bat...</td>\n",
       "      <td>Rs. 510</td>\n",
       "      <td>computer products</td>\n",
       "    </tr>\n",
       "    <tr>\n",
       "      <th>565</th>\n",
       "      <td>HP DeskJet 2710 All-in-One Printer - (Print Sc...</td>\n",
       "      <td>Rs. 20,999</td>\n",
       "      <td>computer products</td>\n",
       "    </tr>\n",
       "    <tr>\n",
       "      <th>585</th>\n",
       "      <td>Portable Mini Fan Usb Charging rechargable bat...</td>\n",
       "      <td>Rs. 541</td>\n",
       "      <td>computer products</td>\n",
       "    </tr>\n",
       "    <tr>\n",
       "      <th>594</th>\n",
       "      <td>Daraz Like New Laptops - Lenovo N21 Chromebook...</td>\n",
       "      <td>Rs. 11,749</td>\n",
       "      <td>computer products</td>\n",
       "    </tr>\n",
       "  </tbody>\n",
       "</table>\n",
       "</div>"
      ],
      "text/plain": [
       "                                         product_names product_prices  \\\n",
       "12   Samsung Galaxy Tab A6 - 1.5GB RAM - 8GB ROM - ...     Rs. 12,775   \n",
       "40   Redmi Note 12 || 8GB Ram 128GB Rom || 6.67 Inc...     Rs. 53,499   \n",
       "53   Xiaomi Redmi Note 12 RAM 8 GB ROM 128 Front Ca...     Rs. 59,840   \n",
       "56   Daraz Like New Tablets – Amazon Fire HD 7 | 9t...     Rs. 10,000   \n",
       "65   Samsung Galaxy Tab E - 1.5GB RAM - 16GB ROM - ...     Rs. 15,000   \n",
       "90   itel S23 8GB Ram 128GB Rom 6.6\" Display 5000mA...     Rs. 29,349   \n",
       "96   Redmi 12C 4GB RAM + 128GB ROM PTA Approved Mob...     Rs. 30,940   \n",
       "108  Infinix Note 30 RAM 8 GB ROM 256 GB Front Came...     Rs. 49,499   \n",
       "110  Redmi Note 12 || 8GB Ram 128GB Rom || 6.67 Inc...     Rs. 53,499   \n",
       "112  Redmi 12C 4GB RAM + 128GB ROM PTA Approved Mob...     Rs. 27,990   \n",
       "120  Xiaomi Redmi Note 12 RAM 8 GB ROM 128 Front Ca...     Rs. 59,880   \n",
       "142  Redmi 12C || 4GB Ram 128GB Rom || 6.71 Inches ...     Rs. 27,799   \n",
       "167  Redmi 12C 4GB RAM + 128GB ROM PTA Approved Mob...     Rs. 30,980   \n",
       "183  Infinix NOTE 12 - 8GB RAM 128GB ROM - Mediatek...     Rs. 59,499   \n",
       "197  Infinix Note 30 RAM 8 GB ROM 256 GB Front Came...     Rs. 53,780   \n",
       "267                  TCL 43\" P635 4K HDR Google LED TV     Rs. 89,999   \n",
       "275  Dawlance 32'' HD LED TV / Spectrum series / 32...     Rs. 42,100   \n",
       "279  TCL L40S5400 Full HD Android Border Less 40\" L...     Rs. 71,999   \n",
       "294  TCL L32S5400 Full HD Android Border Less 32\" L...     Rs. 50,499   \n",
       "299                  TCL 43\" P635 4K HDR Google LED TV    Rs. 110,000   \n",
       "304                  TCL 43C645 4K Android 43\" QLED TV    Rs. 114,999   \n",
       "353  TCL L43S5400 Full HD Android Border Less 43\" L...     Rs. 81,999   \n",
       "363                TCL 65P635 4K HDR Google 65\" LED TV    Rs. 206,000   \n",
       "375                  TCL 50\" P635 4K HDR Google LED TV    Rs. 129,999   \n",
       "377  Dawlance 50'' 4K UHD LED TV / Canvas series / ...    Rs. 145,800   \n",
       "388  Haier 40\" Smart LED/TV K66 Series/H40K66FG (Ce...     Rs. 70,499   \n",
       "462  X13 Universal Mobile Game Cooler System Coolin...        Rs. 595   \n",
       "521  S900 Cooling Pad For 14-17 Inch Laptops Gaming...      Rs. 3,099   \n",
       "555  Portable Mini Fan Usb Charging rechargable bat...        Rs. 510   \n",
       "565  HP DeskJet 2710 All-in-One Printer - (Print Sc...     Rs. 20,999   \n",
       "585  Portable Mini Fan Usb Charging rechargable bat...        Rs. 541   \n",
       "594  Daraz Like New Laptops - Lenovo N21 Chromebook...     Rs. 11,749   \n",
       "\n",
       "                category  \n",
       "12   mobiles and tablets  \n",
       "40   mobiles and tablets  \n",
       "53   mobiles and tablets  \n",
       "56   mobiles and tablets  \n",
       "65   mobiles and tablets  \n",
       "90   mobiles and tablets  \n",
       "96   mobiles and tablets  \n",
       "108  mobiles and tablets  \n",
       "110  mobiles and tablets  \n",
       "112  mobiles and tablets  \n",
       "120  mobiles and tablets  \n",
       "142  mobiles and tablets  \n",
       "167  mobiles and tablets  \n",
       "183  mobiles and tablets  \n",
       "197  mobiles and tablets  \n",
       "267                   tv  \n",
       "275                   tv  \n",
       "279                   tv  \n",
       "294                   tv  \n",
       "299                   tv  \n",
       "304                   tv  \n",
       "353                   tv  \n",
       "363                   tv  \n",
       "375                   tv  \n",
       "377                   tv  \n",
       "388                   tv  \n",
       "462    computer products  \n",
       "521    computer products  \n",
       "555    computer products  \n",
       "565    computer products  \n",
       "585    computer products  \n",
       "594    computer products  "
      ]
     },
     "execution_count": 207,
     "metadata": {},
     "output_type": "execute_result"
    }
   ],
   "source": [
    "(daraz[daraz[\"product_names\"].duplicated()])"
   ]
  },
  {
   "cell_type": "markdown",
   "id": "624c283c",
   "metadata": {},
   "source": [
    "These are the duplicated products in daraz data"
   ]
  },
  {
   "cell_type": "code",
   "execution_count": 208,
   "id": "5de05c97",
   "metadata": {},
   "outputs": [
    {
     "data": {
      "text/plain": [
       "32"
      ]
     },
     "execution_count": 208,
     "metadata": {},
     "output_type": "execute_result"
    }
   ],
   "source": [
    "len(daraz[daraz[\"product_names\"].duplicated()])"
   ]
  },
  {
   "cell_type": "markdown",
   "id": "442d69ca",
   "metadata": {},
   "source": [
    "There are 32 duplicated products in daraz data that have same name."
   ]
  },
  {
   "cell_type": "code",
   "execution_count": 213,
   "id": "7f680a1a",
   "metadata": {
    "scrolled": true
   },
   "outputs": [
    {
     "data": {
      "text/html": [
       "<div>\n",
       "<style scoped>\n",
       "    .dataframe tbody tr th:only-of-type {\n",
       "        vertical-align: middle;\n",
       "    }\n",
       "\n",
       "    .dataframe tbody tr th {\n",
       "        vertical-align: top;\n",
       "    }\n",
       "\n",
       "    .dataframe thead th {\n",
       "        text-align: right;\n",
       "    }\n",
       "</style>\n",
       "<table border=\"1\" class=\"dataframe\">\n",
       "  <thead>\n",
       "    <tr style=\"text-align: right;\">\n",
       "      <th></th>\n",
       "      <th>product_prices</th>\n",
       "    </tr>\n",
       "  </thead>\n",
       "  <tbody>\n",
       "    <tr>\n",
       "      <th>count</th>\n",
       "      <td>600.000000</td>\n",
       "    </tr>\n",
       "    <tr>\n",
       "      <th>mean</th>\n",
       "      <td>56769.056667</td>\n",
       "    </tr>\n",
       "    <tr>\n",
       "      <th>std</th>\n",
       "      <td>80274.322026</td>\n",
       "    </tr>\n",
       "    <tr>\n",
       "      <th>min</th>\n",
       "      <td>50.000000</td>\n",
       "    </tr>\n",
       "    <tr>\n",
       "      <th>25%</th>\n",
       "      <td>3798.000000</td>\n",
       "    </tr>\n",
       "    <tr>\n",
       "      <th>50%</th>\n",
       "      <td>32680.000000</td>\n",
       "    </tr>\n",
       "    <tr>\n",
       "      <th>75%</th>\n",
       "      <td>71999.000000</td>\n",
       "    </tr>\n",
       "    <tr>\n",
       "      <th>max</th>\n",
       "      <td>846999.000000</td>\n",
       "    </tr>\n",
       "  </tbody>\n",
       "</table>\n",
       "</div>"
      ],
      "text/plain": [
       "       product_prices\n",
       "count      600.000000\n",
       "mean     56769.056667\n",
       "std      80274.322026\n",
       "min         50.000000\n",
       "25%       3798.000000\n",
       "50%      32680.000000\n",
       "75%      71999.000000\n",
       "max     846999.000000"
      ]
     },
     "execution_count": 213,
     "metadata": {},
     "output_type": "execute_result"
    }
   ],
   "source": [
    "daraz.describe()"
   ]
  },
  {
   "cell_type": "markdown",
   "id": "b45fd8ee",
   "metadata": {},
   "source": [
    "## Data Cleaning"
   ]
  },
  {
   "cell_type": "code",
   "execution_count": 210,
   "id": "df87a6ce",
   "metadata": {},
   "outputs": [
    {
     "name": "stderr",
     "output_type": "stream",
     "text": [
      "C:\\Users\\DELL\\AppData\\Local\\Temp\\ipykernel_16344\\494819644.py:2: FutureWarning: The default value of regex will change from True to False in a future version.\n",
      "  daraz['product_prices']=daraz['product_prices'].str.replace('Rs. ', '')\n"
     ]
    }
   ],
   "source": [
    "daraz['product_prices']=daraz['product_prices'].str.replace(',', '')\n",
    "daraz['product_prices']=daraz['product_prices'].str.replace('Rs. ', '')\n",
    "daraz['product_prices']=daraz['product_prices'].astype(int)"
   ]
  },
  {
   "cell_type": "code",
   "execution_count": 215,
   "id": "88f56e87",
   "metadata": {},
   "outputs": [
    {
     "name": "stdout",
     "output_type": "stream",
     "text": [
      "<class 'pandas.core.frame.DataFrame'>\n",
      "RangeIndex: 600 entries, 0 to 599\n",
      "Data columns (total 3 columns):\n",
      " #   Column          Non-Null Count  Dtype \n",
      "---  ------          --------------  ----- \n",
      " 0   product_names   600 non-null    object\n",
      " 1   product_prices  600 non-null    int32 \n",
      " 2   category        600 non-null    object\n",
      "dtypes: int32(1), object(2)\n",
      "memory usage: 11.8+ KB\n"
     ]
    }
   ],
   "source": [
    "daraz.info()"
   ]
  },
  {
   "cell_type": "markdown",
   "id": "0483f1b7",
   "metadata": {},
   "source": [
    "## Analyzing the Data And Visualizing the Insights"
   ]
  },
  {
   "cell_type": "code",
   "execution_count": 211,
   "id": "8ccc9dba",
   "metadata": {
    "scrolled": false
   },
   "outputs": [
    {
     "data": {
      "text/html": [
       "<div>\n",
       "<style scoped>\n",
       "    .dataframe tbody tr th:only-of-type {\n",
       "        vertical-align: middle;\n",
       "    }\n",
       "\n",
       "    .dataframe tbody tr th {\n",
       "        vertical-align: top;\n",
       "    }\n",
       "\n",
       "    .dataframe thead th {\n",
       "        text-align: right;\n",
       "    }\n",
       "</style>\n",
       "<table border=\"1\" class=\"dataframe\">\n",
       "  <thead>\n",
       "    <tr style=\"text-align: right;\">\n",
       "      <th></th>\n",
       "      <th>product_prices</th>\n",
       "    </tr>\n",
       "    <tr>\n",
       "      <th>category</th>\n",
       "      <th></th>\n",
       "    </tr>\n",
       "  </thead>\n",
       "  <tbody>\n",
       "    <tr>\n",
       "      <th>computer products</th>\n",
       "      <td>8994.28</td>\n",
       "    </tr>\n",
       "    <tr>\n",
       "      <th>mobiles and tablets</th>\n",
       "      <td>41470.71</td>\n",
       "    </tr>\n",
       "    <tr>\n",
       "      <th>tv</th>\n",
       "      <td>119842.18</td>\n",
       "    </tr>\n",
       "  </tbody>\n",
       "</table>\n",
       "</div>"
      ],
      "text/plain": [
       "                     product_prices\n",
       "category                           \n",
       "computer products           8994.28\n",
       "mobiles and tablets        41470.71\n",
       "tv                        119842.18"
      ]
     },
     "execution_count": 211,
     "metadata": {},
     "output_type": "execute_result"
    }
   ],
   "source": [
    "daraz.groupby(['category']).mean()"
   ]
  },
  {
   "cell_type": "markdown",
   "id": "fe8e32d4",
   "metadata": {},
   "source": [
    "The average price of every product category of daraz data is given: \n",
    "mobiles and tablets = 41470.71 \n",
    "tv = 119842.18 \n",
    "computer products = 8994.28"
   ]
  },
  {
   "cell_type": "code",
   "execution_count": 209,
   "id": "4818368c",
   "metadata": {},
   "outputs": [
    {
     "data": {
      "image/png": "[encoded data removed]",
      "text/plain": [
       "<Figure size 576x432 with 1 Axes>"
      ]
     },
     "metadata": {},
     "output_type": "display_data"
    }
   ],
   "source": [
    "mobiles_and_tablets=[]\n",
    "tv=[]\n",
    "computer_products=[]\n",
    "for i in daraz['category']:\n",
    "    if i=='mobiles and tablets' : mobiles_and_tablets.append(i);\n",
    "    elif i=='tv' : tv.append(i);\n",
    "    else : computer_products.append(i)\n",
    "        \n",
    "plt.figure(figsize=(8, 6))\n",
    "plt.pie([len(mobiles_and_tablets),len(tv),len(computer_products)],labels=['mobiles_and_tablets','tv','computer_products'],autopct='%1.1f%%')\n",
    "plt.show()"
   ]
  },
  {
   "cell_type": "markdown",
   "id": "89bd75a0",
   "metadata": {},
   "source": [
    "This chart is showing that the 3 categories in our data contains same number of products. That's why the percentage of every part is equal."
   ]
  },
  {
   "cell_type": "code",
   "execution_count": 212,
   "id": "3451901a",
   "metadata": {},
   "outputs": [
    {
     "data": {
      "image/png": "[encoded data removed]",
      "text/plain": [
       "<Figure size 576x432 with 1 Axes>"
      ]
     },
     "metadata": {
      "needs_background": "light"
     },
     "output_type": "display_data"
    }
   ],
   "source": [
    "plt.figure(figsize=(8, 6))\n",
    "plt.boxplot(daraz.product_prices)\n",
    "plt.show()"
   ]
  },
  {
   "cell_type": "markdown",
   "id": "bc04f08b",
   "metadata": {},
   "source": [
    "This plot is showing outlies in the product price column."
   ]
  },
  {
   "cell_type": "markdown",
   "id": "c818a9a2",
   "metadata": {},
   "source": [
    "# Flipkart Data Analysis"
   ]
  },
  {
   "cell_type": "code",
   "execution_count": 163,
   "id": "f83546d4",
   "metadata": {},
   "outputs": [],
   "source": [
    "flipkart=pd.read_csv(\"flipkart.csv\")"
   ]
  },
  {
   "cell_type": "code",
   "execution_count": 164,
   "id": "409b1d65",
   "metadata": {
    "scrolled": false
   },
   "outputs": [
    {
     "data": {
      "text/html": [
       "<div>\n",
       "<style scoped>\n",
       "    .dataframe tbody tr th:only-of-type {\n",
       "        vertical-align: middle;\n",
       "    }\n",
       "\n",
       "    .dataframe tbody tr th {\n",
       "        vertical-align: top;\n",
       "    }\n",
       "\n",
       "    .dataframe thead th {\n",
       "        text-align: right;\n",
       "    }\n",
       "</style>\n",
       "<table border=\"1\" class=\"dataframe\">\n",
       "  <thead>\n",
       "    <tr style=\"text-align: right;\">\n",
       "      <th></th>\n",
       "      <th>product_names</th>\n",
       "      <th>product_prices</th>\n",
       "      <th>category</th>\n",
       "    </tr>\n",
       "  </thead>\n",
       "  <tbody>\n",
       "    <tr>\n",
       "      <th>0</th>\n",
       "      <td>POCO X5 5G (Supernova Green, 256 GB)</td>\n",
       "      <td>₹14,999</td>\n",
       "      <td>mobiles</td>\n",
       "    </tr>\n",
       "    <tr>\n",
       "      <th>1</th>\n",
       "      <td>POCO X5 5G (Wildcat Blue, 256 GB)</td>\n",
       "      <td>₹14,999</td>\n",
       "      <td>mobiles</td>\n",
       "    </tr>\n",
       "    <tr>\n",
       "      <th>2</th>\n",
       "      <td>APPLE iPhone 14 (Blue, 128 GB)</td>\n",
       "      <td>₹56,999</td>\n",
       "      <td>mobiles</td>\n",
       "    </tr>\n",
       "    <tr>\n",
       "      <th>3</th>\n",
       "      <td>APPLE iPhone 14 (Starlight, 128 GB)</td>\n",
       "      <td>₹56,999</td>\n",
       "      <td>mobiles</td>\n",
       "    </tr>\n",
       "    <tr>\n",
       "      <th>4</th>\n",
       "      <td>APPLE iPhone 14 (Midnight, 128 GB)</td>\n",
       "      <td>₹57,999</td>\n",
       "      <td>mobiles</td>\n",
       "    </tr>\n",
       "  </tbody>\n",
       "</table>\n",
       "</div>"
      ],
      "text/plain": [
       "                          product_names product_prices category\n",
       "0  POCO X5 5G (Supernova Green, 256 GB)        ₹14,999  mobiles\n",
       "1     POCO X5 5G (Wildcat Blue, 256 GB)        ₹14,999  mobiles\n",
       "2        APPLE iPhone 14 (Blue, 128 GB)        ₹56,999  mobiles\n",
       "3   APPLE iPhone 14 (Starlight, 128 GB)        ₹56,999  mobiles\n",
       "4    APPLE iPhone 14 (Midnight, 128 GB)        ₹57,999  mobiles"
      ]
     },
     "execution_count": 164,
     "metadata": {},
     "output_type": "execute_result"
    }
   ],
   "source": [
    "flipkart.head()"
   ]
  },
  {
   "cell_type": "code",
   "execution_count": 138,
   "id": "1b88b332",
   "metadata": {},
   "outputs": [
    {
     "name": "stdout",
     "output_type": "stream",
     "text": [
      "<class 'pandas.core.frame.DataFrame'>\n",
      "RangeIndex: 648 entries, 0 to 647\n",
      "Data columns (total 3 columns):\n",
      " #   Column          Non-Null Count  Dtype \n",
      "---  ------          --------------  ----- \n",
      " 0   product_names   648 non-null    object\n",
      " 1   product_prices  648 non-null    object\n",
      " 2   category        648 non-null    object\n",
      "dtypes: object(3)\n",
      "memory usage: 15.3+ KB\n"
     ]
    }
   ],
   "source": [
    "flipkart.info()"
   ]
  },
  {
   "cell_type": "markdown",
   "id": "7e6b2478",
   "metadata": {},
   "source": [
    "### Checking Null Values"
   ]
  },
  {
   "cell_type": "code",
   "execution_count": 137,
   "id": "51848834",
   "metadata": {},
   "outputs": [
    {
     "data": {
      "text/plain": [
       "product_names     0\n",
       "product_prices    0\n",
       "category          0\n",
       "dtype: int64"
      ]
     },
     "execution_count": 137,
     "metadata": {},
     "output_type": "execute_result"
    }
   ],
   "source": [
    "flipkart.isnull().sum()"
   ]
  },
  {
   "cell_type": "markdown",
   "id": "cac80a57",
   "metadata": {},
   "source": [
    "There are not any missing values in flipkart data"
   ]
  },
  {
   "cell_type": "markdown",
   "id": "7d2a9825",
   "metadata": {},
   "source": [
    "### Checking Duplicates "
   ]
  },
  {
   "cell_type": "code",
   "execution_count": 142,
   "id": "64678582",
   "metadata": {},
   "outputs": [
    {
     "data": {
      "text/html": [
       "<div>\n",
       "<style scoped>\n",
       "    .dataframe tbody tr th:only-of-type {\n",
       "        vertical-align: middle;\n",
       "    }\n",
       "\n",
       "    .dataframe tbody tr th {\n",
       "        vertical-align: top;\n",
       "    }\n",
       "\n",
       "    .dataframe thead th {\n",
       "        text-align: right;\n",
       "    }\n",
       "</style>\n",
       "<table border=\"1\" class=\"dataframe\">\n",
       "  <thead>\n",
       "    <tr style=\"text-align: right;\">\n",
       "      <th></th>\n",
       "      <th>product_names</th>\n",
       "      <th>product_prices</th>\n",
       "      <th>category</th>\n",
       "    </tr>\n",
       "  </thead>\n",
       "  <tbody>\n",
       "    <tr>\n",
       "      <th>48</th>\n",
       "      <td>vivo T2x 5G (Marine Blue, 128 GB)</td>\n",
       "      <td>₹11,999</td>\n",
       "      <td>mobiles</td>\n",
       "    </tr>\n",
       "    <tr>\n",
       "      <th>49</th>\n",
       "      <td>REDMI 12 (Jade Black, 128 GB)</td>\n",
       "      <td>₹9,299\\n</td>\n",
       "      <td>mobiles</td>\n",
       "    </tr>\n",
       "    <tr>\n",
       "      <th>50</th>\n",
       "      <td>POCO X5 5G (Supernova Green, 128 GB)</td>\n",
       "      <td>₹13,999</td>\n",
       "      <td>mobiles</td>\n",
       "    </tr>\n",
       "    <tr>\n",
       "      <th>51</th>\n",
       "      <td>POCO X5 Pro 5G (Yellow, 128 GB)</td>\n",
       "      <td>₹18,499</td>\n",
       "      <td>mobiles</td>\n",
       "    </tr>\n",
       "    <tr>\n",
       "      <th>52</th>\n",
       "      <td>APPLE iPhone 14 Plus (Midnight, 128 GB)</td>\n",
       "      <td>₹63,999</td>\n",
       "      <td>mobiles</td>\n",
       "    </tr>\n",
       "    <tr>\n",
       "      <th>...</th>\n",
       "      <td>...</td>\n",
       "      <td>...</td>\n",
       "      <td>...</td>\n",
       "    </tr>\n",
       "    <tr>\n",
       "      <th>575</th>\n",
       "      <td>Infinix X3 Slim Intel Core i3 12th Gen 1215U -...</td>\n",
       "      <td>₹27,990</td>\n",
       "      <td>laptop</td>\n",
       "    </tr>\n",
       "    <tr>\n",
       "      <th>577</th>\n",
       "      <td>Infinix X3 Slim Intel Core i3 12th Gen 1215U -...</td>\n",
       "      <td>₹27,990</td>\n",
       "      <td>laptop</td>\n",
       "    </tr>\n",
       "    <tr>\n",
       "      <th>587</th>\n",
       "      <td>Primebook Wifi MT8183 - (4 GB/64 GB EMMC Stora...</td>\n",
       "      <td>₹10,990</td>\n",
       "      <td>laptop</td>\n",
       "    </tr>\n",
       "    <tr>\n",
       "      <th>604</th>\n",
       "      <td>Primebook 4G Android Based MediaTek MT8788 - (...</td>\n",
       "      <td>₹10,990</td>\n",
       "      <td>laptop</td>\n",
       "    </tr>\n",
       "    <tr>\n",
       "      <th>615</th>\n",
       "      <td>Primebook S Wifi MT8183 - (4 GB/128 GB EMMC St...</td>\n",
       "      <td>₹10,990</td>\n",
       "      <td>laptop</td>\n",
       "    </tr>\n",
       "  </tbody>\n",
       "</table>\n",
       "<p>111 rows × 3 columns</p>\n",
       "</div>"
      ],
      "text/plain": [
       "                                         product_names product_prices category\n",
       "48                   vivo T2x 5G (Marine Blue, 128 GB)        ₹11,999  mobiles\n",
       "49                       REDMI 12 (Jade Black, 128 GB)       ₹9,299\\n  mobiles\n",
       "50                POCO X5 5G (Supernova Green, 128 GB)        ₹13,999  mobiles\n",
       "51                     POCO X5 Pro 5G (Yellow, 128 GB)        ₹18,499  mobiles\n",
       "52             APPLE iPhone 14 Plus (Midnight, 128 GB)        ₹63,999  mobiles\n",
       "..                                                 ...            ...      ...\n",
       "575  Infinix X3 Slim Intel Core i3 12th Gen 1215U -...        ₹27,990   laptop\n",
       "577  Infinix X3 Slim Intel Core i3 12th Gen 1215U -...        ₹27,990   laptop\n",
       "587  Primebook Wifi MT8183 - (4 GB/64 GB EMMC Stora...        ₹10,990   laptop\n",
       "604  Primebook 4G Android Based MediaTek MT8788 - (...        ₹10,990   laptop\n",
       "615  Primebook S Wifi MT8183 - (4 GB/128 GB EMMC St...        ₹10,990   laptop\n",
       "\n",
       "[111 rows x 3 columns]"
      ]
     },
     "execution_count": 142,
     "metadata": {},
     "output_type": "execute_result"
    }
   ],
   "source": [
    "(flipkart[flipkart.duplicated()])"
   ]
  },
  {
   "cell_type": "markdown",
   "id": "eb443b3e",
   "metadata": {},
   "source": [
    "These are the duplicate products in flipkart data that have same name price and category"
   ]
  },
  {
   "cell_type": "code",
   "execution_count": 144,
   "id": "80232896",
   "metadata": {},
   "outputs": [
    {
     "data": {
      "text/plain": [
       "111"
      ]
     },
     "execution_count": 144,
     "metadata": {},
     "output_type": "execute_result"
    }
   ],
   "source": [
    "len(flipkart[flipkart.duplicated()])"
   ]
  },
  {
   "cell_type": "markdown",
   "id": "27b97009",
   "metadata": {},
   "source": [
    "The length of the duplicate products that have same name price and categoryis 111."
   ]
  },
  {
   "cell_type": "code",
   "execution_count": 148,
   "id": "e2ea3c5a",
   "metadata": {},
   "outputs": [
    {
     "data": {
      "text/html": [
       "<div>\n",
       "<style scoped>\n",
       "    .dataframe tbody tr th:only-of-type {\n",
       "        vertical-align: middle;\n",
       "    }\n",
       "\n",
       "    .dataframe tbody tr th {\n",
       "        vertical-align: top;\n",
       "    }\n",
       "\n",
       "    .dataframe thead th {\n",
       "        text-align: right;\n",
       "    }\n",
       "</style>\n",
       "<table border=\"1\" class=\"dataframe\">\n",
       "  <thead>\n",
       "    <tr style=\"text-align: right;\">\n",
       "      <th></th>\n",
       "      <th>product_names</th>\n",
       "      <th>product_prices</th>\n",
       "      <th>category</th>\n",
       "    </tr>\n",
       "  </thead>\n",
       "  <tbody>\n",
       "    <tr>\n",
       "      <th>14</th>\n",
       "      <td>vivo T2x 5G (Glimmer Black, 128 GB)</td>\n",
       "      <td>₹12,999</td>\n",
       "      <td>mobiles</td>\n",
       "    </tr>\n",
       "    <tr>\n",
       "      <th>15</th>\n",
       "      <td>vivo T2x 5G (Marine Blue, 128 GB)</td>\n",
       "      <td>₹12,999</td>\n",
       "      <td>mobiles</td>\n",
       "    </tr>\n",
       "    <tr>\n",
       "      <th>19</th>\n",
       "      <td>vivo T2x 5G (Aurora Gold, 128 GB)</td>\n",
       "      <td>₹14,999</td>\n",
       "      <td>mobiles</td>\n",
       "    </tr>\n",
       "    <tr>\n",
       "      <th>22</th>\n",
       "      <td>vivo T2x 5G (Aurora Gold, 128 GB)</td>\n",
       "      <td>₹11,999</td>\n",
       "      <td>mobiles</td>\n",
       "    </tr>\n",
       "    <tr>\n",
       "      <th>23</th>\n",
       "      <td>vivo T2x 5G (Glimmer Black, 128 GB)</td>\n",
       "      <td>₹11,999</td>\n",
       "      <td>mobiles</td>\n",
       "    </tr>\n",
       "    <tr>\n",
       "      <th>...</th>\n",
       "      <td>...</td>\n",
       "      <td>...</td>\n",
       "      <td>...</td>\n",
       "    </tr>\n",
       "    <tr>\n",
       "      <th>577</th>\n",
       "      <td>Infinix X3 Slim Intel Core i3 12th Gen 1215U -...</td>\n",
       "      <td>₹27,990</td>\n",
       "      <td>laptop</td>\n",
       "    </tr>\n",
       "    <tr>\n",
       "      <th>587</th>\n",
       "      <td>Primebook Wifi MT8183 - (4 GB/64 GB EMMC Stora...</td>\n",
       "      <td>₹10,990</td>\n",
       "      <td>laptop</td>\n",
       "    </tr>\n",
       "    <tr>\n",
       "      <th>604</th>\n",
       "      <td>Primebook 4G Android Based MediaTek MT8788 - (...</td>\n",
       "      <td>₹10,990</td>\n",
       "      <td>laptop</td>\n",
       "    </tr>\n",
       "    <tr>\n",
       "      <th>615</th>\n",
       "      <td>Primebook S Wifi MT8183 - (4 GB/128 GB EMMC St...</td>\n",
       "      <td>₹10,990</td>\n",
       "      <td>laptop</td>\n",
       "    </tr>\n",
       "    <tr>\n",
       "      <th>625</th>\n",
       "      <td>Infinix X2 Slim Series Core i5 11th Gen 1155G7...</td>\n",
       "      <td>₹35,990</td>\n",
       "      <td>laptop</td>\n",
       "    </tr>\n",
       "  </tbody>\n",
       "</table>\n",
       "<p>141 rows × 3 columns</p>\n",
       "</div>"
      ],
      "text/plain": [
       "                                         product_names product_prices category\n",
       "14                 vivo T2x 5G (Glimmer Black, 128 GB)        ₹12,999  mobiles\n",
       "15                   vivo T2x 5G (Marine Blue, 128 GB)        ₹12,999  mobiles\n",
       "19                   vivo T2x 5G (Aurora Gold, 128 GB)        ₹14,999  mobiles\n",
       "22                   vivo T2x 5G (Aurora Gold, 128 GB)        ₹11,999  mobiles\n",
       "23                 vivo T2x 5G (Glimmer Black, 128 GB)        ₹11,999  mobiles\n",
       "..                                                 ...            ...      ...\n",
       "577  Infinix X3 Slim Intel Core i3 12th Gen 1215U -...        ₹27,990   laptop\n",
       "587  Primebook Wifi MT8183 - (4 GB/64 GB EMMC Stora...        ₹10,990   laptop\n",
       "604  Primebook 4G Android Based MediaTek MT8788 - (...        ₹10,990   laptop\n",
       "615  Primebook S Wifi MT8183 - (4 GB/128 GB EMMC St...        ₹10,990   laptop\n",
       "625  Infinix X2 Slim Series Core i5 11th Gen 1155G7...        ₹35,990   laptop\n",
       "\n",
       "[141 rows x 3 columns]"
      ]
     },
     "execution_count": 148,
     "metadata": {},
     "output_type": "execute_result"
    }
   ],
   "source": [
    "flipkart[flipkart[\"product_names\"].duplicated()]"
   ]
  },
  {
   "cell_type": "markdown",
   "id": "280632f1",
   "metadata": {},
   "source": [
    "These are the duplicated products in flipkart data that have same name."
   ]
  },
  {
   "cell_type": "code",
   "execution_count": 149,
   "id": "596b83e1",
   "metadata": {},
   "outputs": [
    {
     "data": {
      "text/plain": [
       "141"
      ]
     },
     "execution_count": 149,
     "metadata": {},
     "output_type": "execute_result"
    }
   ],
   "source": [
    "len(flipkart[flipkart[\"product_names\"].duplicated()])"
   ]
  },
  {
   "cell_type": "markdown",
   "id": "fd2d66ee",
   "metadata": {},
   "source": [
    "The length of the duplicate products that have same name is 141."
   ]
  },
  {
   "cell_type": "markdown",
   "id": "5f86bbe1",
   "metadata": {},
   "source": [
    "## Data Cleaning "
   ]
  },
  {
   "cell_type": "code",
   "execution_count": 169,
   "id": "49647224",
   "metadata": {},
   "outputs": [],
   "source": [
    "flipkart['product_prices']=flipkart['product_prices'].str.replace(',', '')\n",
    "flipkart['product_prices']=flipkart['product_prices'].str.replace('₹', '')\n",
    "flipkart['product_prices']=flipkart['product_prices'].str.replace('\\n', '')\n",
    "flipkart['product_prices']=flipkart['product_prices'].astype(int)"
   ]
  },
  {
   "cell_type": "markdown",
   "id": "74506bd6",
   "metadata": {},
   "source": [
    "##  Analyzing the Data And Visualizing the Insights "
   ]
  },
  {
   "cell_type": "code",
   "execution_count": 194,
   "id": "941b37fc",
   "metadata": {
    "scrolled": true
   },
   "outputs": [
    {
     "data": {
      "text/html": [
       "<div>\n",
       "<style scoped>\n",
       "    .dataframe tbody tr th:only-of-type {\n",
       "        vertical-align: middle;\n",
       "    }\n",
       "\n",
       "    .dataframe tbody tr th {\n",
       "        vertical-align: top;\n",
       "    }\n",
       "\n",
       "    .dataframe thead th {\n",
       "        text-align: right;\n",
       "    }\n",
       "</style>\n",
       "<table border=\"1\" class=\"dataframe\">\n",
       "  <thead>\n",
       "    <tr style=\"text-align: right;\">\n",
       "      <th></th>\n",
       "      <th>product_prices</th>\n",
       "    </tr>\n",
       "    <tr>\n",
       "      <th>category</th>\n",
       "      <th></th>\n",
       "    </tr>\n",
       "  </thead>\n",
       "  <tbody>\n",
       "    <tr>\n",
       "      <th>laptop</th>\n",
       "      <td>40347.828704</td>\n",
       "    </tr>\n",
       "    <tr>\n",
       "      <th>mobiles</th>\n",
       "      <td>18476.842593</td>\n",
       "    </tr>\n",
       "    <tr>\n",
       "      <th>tv</th>\n",
       "      <td>25108.458333</td>\n",
       "    </tr>\n",
       "  </tbody>\n",
       "</table>\n",
       "</div>"
      ],
      "text/plain": [
       "          product_prices\n",
       "category                \n",
       "laptop      40347.828704\n",
       "mobiles     18476.842593\n",
       "tv          25108.458333"
      ]
     },
     "execution_count": 194,
     "metadata": {},
     "output_type": "execute_result"
    }
   ],
   "source": [
    "flipkart.groupby(['category']).mean()"
   ]
  },
  {
   "cell_type": "markdown",
   "id": "4a2c5234",
   "metadata": {},
   "source": [
    "The average price of every product category of flipkart data is given: \n",
    "mobiles = 18476.842593\n",
    "tv = 25108.458333 \n",
    "laptop = 40347.828704"
   ]
  },
  {
   "cell_type": "code",
   "execution_count": 151,
   "id": "59ed22c8",
   "metadata": {},
   "outputs": [
    {
     "data": {
      "image/png": "[encoded data removed]",
      "text/plain": [
       "<Figure size 576x432 with 1 Axes>"
      ]
     },
     "metadata": {},
     "output_type": "display_data"
    }
   ],
   "source": [
    "mobiles=[]\n",
    "tv=[]\n",
    "laptops=[]\n",
    "for i in flipkart['category']:\n",
    "    if i=='mobiles' : mobiles.append(i);\n",
    "    elif i=='tv' : tv.append(i);\n",
    "    else : laptops.append(i)\n",
    "        \n",
    "plt.figure(figsize=(8, 6))\n",
    "plt.pie([len(mobiles),len(tv),len(laptops)],labels=['mobiles','tv','laptops'],autopct='%1.1f%%')\n",
    "plt.show()"
   ]
  },
  {
   "cell_type": "markdown",
   "id": "c17c3d6e",
   "metadata": {},
   "source": [
    "This chart is showing that the 3 categories in our data contains same number of products. That's why the percentage of every part is equal."
   ]
  },
  {
   "cell_type": "code",
   "execution_count": 199,
   "id": "12cae92a",
   "metadata": {
    "scrolled": true
   },
   "outputs": [
    {
     "data": {
      "image/png": "[encoded data removed]",
      "text/plain": [
       "<Figure size 576x432 with 1 Axes>"
      ]
     },
     "metadata": {
      "needs_background": "light"
     },
     "output_type": "display_data"
    }
   ],
   "source": [
    "plt.figure(figsize=(8, 6))\n",
    "plt.boxplot(df.product_prices)\n",
    "plt.show()"
   ]
  },
  {
   "cell_type": "markdown",
   "id": "f3f137ae",
   "metadata": {},
   "source": [
    "This plot is showing outlies in the product price column."
   ]
  },
  {
   "cell_type": "markdown",
   "id": "2b859d81",
   "metadata": {},
   "source": [
    "## Finding common product in data"
   ]
  },
  {
   "cell_type": "code",
   "execution_count": 214,
   "id": "6fa4e462",
   "metadata": {},
   "outputs": [
    {
     "data": {
      "text/html": [
       "<div>\n",
       "<style scoped>\n",
       "    .dataframe tbody tr th:only-of-type {\n",
       "        vertical-align: middle;\n",
       "    }\n",
       "\n",
       "    .dataframe tbody tr th {\n",
       "        vertical-align: top;\n",
       "    }\n",
       "\n",
       "    .dataframe thead th {\n",
       "        text-align: right;\n",
       "    }\n",
       "</style>\n",
       "<table border=\"1\" class=\"dataframe\">\n",
       "  <thead>\n",
       "    <tr style=\"text-align: right;\">\n",
       "      <th></th>\n",
       "      <th>product_names</th>\n",
       "      <th>product_prices_x</th>\n",
       "      <th>category_x</th>\n",
       "      <th>product_prices_y</th>\n",
       "      <th>category_y</th>\n",
       "    </tr>\n",
       "  </thead>\n",
       "  <tbody>\n",
       "  </tbody>\n",
       "</table>\n",
       "</div>"
      ],
      "text/plain": [
       "Empty DataFrame\n",
       "Columns: [product_names, product_prices_x, category_x, product_prices_y, category_y]\n",
       "Index: []"
      ]
     },
     "execution_count": 214,
     "metadata": {},
     "output_type": "execute_result"
    }
   ],
   "source": [
    "pd.merge(daraz, flipkart, on='product_names')"
   ]
  },
  {
   "cell_type": "markdown",
   "id": "b3c0662d",
   "metadata": {},
   "source": [
    "There are not any common product that have same name in our both data."
   ]
  },
  {
   "cell_type": "markdown",
   "id": "64b3a849",
   "metadata": {},
   "source": [
    "## Comparing Both Websites"
   ]
  },
  {
   "cell_type": "markdown",
   "id": "57705754",
   "metadata": {},
   "source": [
    "If there is any common product in our both data we can compare the prices of those products and recommend one website. As there is not any product that is common in our both data it is hard to tell which website is best for shopping. But by comparing average price of categories given in our data we can tell which website is best for shopping.\n",
    "\n",
    "These are the averge prices of each category that we have find earlier.\n",
    "\n",
    "The average price of every product category of daraz data is given: \n",
    "mobiles and tablets = 41470.71 \n",
    "tv = 119842.18 \n",
    "computer products = 8994.28\n",
    "\n",
    "The average price of every product category of flipkart data is given: \n",
    "mobiles = 18476.842593\n",
    "tv = 25108.458333 \n",
    "laptop = 40347.828704\n",
    "\n",
    "By carefully analyzing it the average price of mobiles on flipkart is less than the daraz and the average price of tv on flipkart is also less as compared to daraz but the prices of laptops and other computer accessories are high on flipkart.But we have to remember 1 thing in our mind that flipkart is an indian brand so if we are buying something from flipkart,the currency difference also matters and for mobiles PTA tax is also a problem. Today in market 1 indian rupee==3.43 pakistani rupee. so if we buy something from flipkart with the price of indian 500 rupees, it almost cost us 1710 pakistani rupees.If we buy something from flipkart thinking that it is cheap, the currency difference will make the price as equal to daraz. So after considering it and making all the calculations if i have to recommend one website for online shopping I will recommend daraz."
   ]
  }
 ],
 "metadata": {
  "kernelspec": {
   "display_name": "Python 3 (ipykernel)",
   "language": "python",
   "name": "python3"
  },
  "language_info": {
   "codemirror_mode": {
    "name": "ipython",
    "version": 3
   },
   "file_extension": ".py",
   "mimetype": "text/x-python",
   "name": "python",
   "nbconvert_exporter": "python",
   "pygments_lexer": "ipython3",
   "version": "3.10.4"
  }
 },
 "nbformat": 4,
 "nbformat_minor": 5
}
