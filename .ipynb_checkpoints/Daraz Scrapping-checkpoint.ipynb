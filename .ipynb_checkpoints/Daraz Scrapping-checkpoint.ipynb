{
 "cells": [
  {
   "cell_type": "code",
   "execution_count": null,
   "id": "c11f95d4",
   "metadata": {},
   "outputs": [],
   "source": [
    "from selenium import webdriver\n",
    "from selenium.webdriver.common.by import By\n",
    "from selenium.webdriver.common.keys import Keys\n",
    "import time\n",
    "import pandas as pd "
   ]
  },
  {
   "cell_type": "code",
   "execution_count": null,
   "id": "d9956d07",
   "metadata": {},
   "outputs": [],
   "source": [
    "driver=webdriver.Chrome()\n",
    "driver.get(\"https://www.daraz.pk/\")"
   ]
  },
  {
   "cell_type": "code",
   "execution_count": null,
   "id": "064330d9",
   "metadata": {},
   "outputs": [],
   "source": [
    "prod_searchs=[\"mobiles and tablets\",\"tv\",\"computer products\"]\n",
    "product_names=[]\n",
    "product_prices=[]"
   ]
  },
  {
   "cell_type": "code",
   "execution_count": null,
   "id": "e8300ead",
   "metadata": {},
   "outputs": [],
   "source": [
    "def find_names_and_price():\n",
    "    names=driver.find_elements(By.ID,\"id-a-link\")\n",
    "    price=driver.find_elements(By.CSS_SELECTOR,'div.price--NVB62 span')\n",
    "    \n",
    "    for i in names:\n",
    "        if '' != i.text:\n",
    "            product_names.append(i.text)\n",
    "            \n",
    "    for j in price:\n",
    "        product_prices.append(j.text)"
   ]
  },
  {
   "cell_type": "code",
   "execution_count": null,
   "id": "96f1b09c",
   "metadata": {},
   "outputs": [],
   "source": [
    "for prod in prod_searchs:\n",
    "    print(prod)\n",
    "    search_bar=driver.find_element(by=By.XPATH,value='//*[@id=\"q\"]')\n",
    "    search_bar.send_keys(prod)\n",
    "    search_bar.send_keys(Keys.ENTER)\n",
    "    for i in range(2,7):\n",
    "        find_names_and_price()\n",
    "        time.sleep(5)\n",
    "        next_page=driver.find_elements(By.CSS_SELECTOR,'ul.ant-pagination li a')\n",
    "        next_page[i].click()    \n",
    "    time.sleep(10)\n",
    "    driver.find_element(by=By.XPATH,value='//*[@id=\"q\"]').send_keys(Keys.CONTROL, 'a')\n",
    "    driver.find_element(by=By.XPATH,value='//*[@id=\"q\"]').send_keys(Keys.DELETE)"
   ]
  },
  {
   "cell_type": "code",
   "execution_count": null,
   "id": "e31b097c",
   "metadata": {},
   "outputs": [],
   "source": [
    "data = {'product_names': product_names, 'product_prices': product_prices,\"category\",category}  \n",
    "df = pd.DataFrame(data)"
   ]
  },
  {
   "cell_type": "code",
   "execution_count": null,
   "id": "a1a23754",
   "metadata": {},
   "outputs": [],
   "source": [
    "df"
   ]
  },
  {
   "cell_type": "code",
   "execution_count": null,
   "id": "70b91c74",
   "metadata": {},
   "outputs": [],
   "source": [
    "df.to_csv('daraz.csv', index=False)"
   ]
  }
 ],
 "metadata": {
  "kernelspec": {
   "display_name": "Python 3 (ipykernel)",
   "language": "python",
   "name": "python3"
  },
  "language_info": {
   "codemirror_mode": {
    "name": "ipython",
    "version": 3
   },
   "file_extension": ".py",
   "mimetype": "text/x-python",
   "name": "python",
   "nbconvert_exporter": "python",
   "pygments_lexer": "ipython3",
   "version": "3.10.4"
  }
 },
 "nbformat": 4,
 "nbformat_minor": 5
}
